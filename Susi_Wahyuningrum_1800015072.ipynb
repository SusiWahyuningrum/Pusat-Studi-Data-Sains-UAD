{
  "nbformat": 4,
  "nbformat_minor": 0,
  "metadata": {
    "colab": {
      "name": "Susi Wahyuningrum 1800015072.ipynb",
      "provenance": [],
      "toc_visible": true,
      "authorship_tag": "ABX9TyMwqPkWXnDkoBP7/mqliiSz",
      "include_colab_link": true
    },
    "kernelspec": {
      "name": "python3",
      "display_name": "Python 3"
    }
  },
  "cells": [
    {
      "cell_type": "markdown",
      "metadata": {
        "id": "view-in-github",
        "colab_type": "text"
      },
      "source": [
        "<a href=\"https://colab.research.google.com/github/SusiWahyuningrum/Pusat-Studi-Data-Sains-UAD/blob/main/Susi_Wahyuningrum_1800015072.ipynb\" target=\"_parent\"><img src=\"https://colab.research.google.com/assets/colab-badge.svg\" alt=\"Open In Colab\"/></a>"
      ]
    },
    {
      "cell_type": "markdown",
      "metadata": {
        "id": "gY1-9dvXryfT"
      },
      "source": [
        "###**Geometri Dimensi Dua**"
      ]
    },
    {
      "cell_type": "markdown",
      "metadata": {
        "id": "5k12Cid0sNYm"
      },
      "source": [
        "##Segitiga\r\n",
        "\r\n",
        "Berikut adalah formulasi untuk menghitung **luas** dan *keliling* segitiga:\r\n",
        "\r\n",
        "1.   Luas = 0.5 x alas x tinggi\r\n",
        "2.   Keliling = sisi a + sisi b + sisi c\r\n",
        "\r\n",
        "Diketahui:\r\n",
        "\r\n",
        "*   a(alas) = 6 cm\r\n",
        "*   b(tinggi) = 8 cm\r\n",
        "*   c(miring) = 10 cm\r\n",
        "\r\n"
      ]
    },
    {
      "cell_type": "code",
      "metadata": {
        "colab": {
          "base_uri": "https://localhost:8080/"
        },
        "id": "9nUvvncytqym",
        "outputId": "39db3812-521b-45cc-c447-da5a7867247b"
      },
      "source": [
        "a=6\r\n",
        "b=8\r\n",
        "c=10\r\n",
        "Luas=0.5*a*b\r\n",
        "print(Luas)\r\n",
        "Keliling = a+b+c\r\n",
        "print(Keliling)"
      ],
      "execution_count": null,
      "outputs": [
        {
          "output_type": "stream",
          "text": [
            "24.0\n",
            "24\n"
          ],
          "name": "stdout"
        }
      ]
    },
    {
      "cell_type": "markdown",
      "metadata": {
        "id": "Iw80rszAuIY6"
      },
      "source": [
        "###**Segiempat**\r\n",
        "\r\n",
        "Berikut adalah formulasi untuk menghitung **luas** dan *keliling* segiempat:\r\n",
        "\r\n",
        "1.   Luas = sisi x sisi\r\n",
        "2.   Keliling = sisi x 4\r\n",
        "\r\n",
        "Diketahui: sisi segiempat = 8 cm"
      ]
    },
    {
      "cell_type": "code",
      "metadata": {
        "colab": {
          "base_uri": "https://localhost:8080/"
        },
        "id": "VC3KtSjOusxy",
        "outputId": "03e382eb-468e-4974-f03e-8cf3e677b5d3"
      },
      "source": [
        "sisi=8\r\n",
        "Luas = sisi*sisi\r\n",
        "print(Luas)\r\n",
        "Keliling = 4*sisi\r\n",
        "print(Keliling)"
      ],
      "execution_count": null,
      "outputs": [
        {
          "output_type": "stream",
          "text": [
            "64\n",
            "32\n"
          ],
          "name": "stdout"
        }
      ]
    }
  ]
}