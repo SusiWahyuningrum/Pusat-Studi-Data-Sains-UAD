{
  "nbformat": 4,
  "nbformat_minor": 0,
  "metadata": {
    "colab": {
      "name": "Last_Project.ipynb",
      "provenance": [],
      "include_colab_link": true
    },
    "kernelspec": {
      "name": "python3",
      "display_name": "Python 3"
    }
  },
  "cells": [
    {
      "cell_type": "markdown",
      "metadata": {
        "id": "view-in-github",
        "colab_type": "text"
      },
      "source": [
        "<a href=\"https://colab.research.google.com/github/SusiWahyuningrum/Pusat-Studi-Data-Sains-UAD/blob/main/Last_Project.ipynb\" target=\"_parent\"><img src=\"https://colab.research.google.com/assets/colab-badge.svg\" alt=\"Open In Colab\"/></a>"
      ]
    },
    {
      "cell_type": "markdown",
      "metadata": {
        "id": "YtegDc09P79f"
      },
      "source": [
        "# **Volume Kombinasi Kubus dan Limas**"
      ]
    },
    {
      "cell_type": "markdown",
      "metadata": {
        "id": "WgEPNfODQrrD"
      },
      "source": [
        "Kolom 1 | Kolom 2 \r\n",
        "--------|---------\r\n",
        "Nama    | Susi Wahyuningrum\r\n",
        "NIM     | 1800015072\r\n",
        "Semester| 5"
      ]
    },
    {
      "cell_type": "code",
      "metadata": {
        "colab": {
          "base_uri": "https://localhost:8080/"
        },
        "id": "SOCXGqC67FdM",
        "outputId": "e9bb340a-2ca3-4562-ac35-954ba8eff76d"
      },
      "source": [
        "#x merupakan alas\r\n",
        "#y merupakan tinggi\r\n",
        "def vol_kubus(x):\r\n",
        "    vol_kubus=x*x*x\r\n",
        "    return vol_kubus\r\n",
        "\r\n",
        "def vol_limas(x ,y):\r\n",
        "    vol_limas=1/3*x*x*y\r\n",
        "    return vol_limas\r\n",
        "\r\n",
        "def volume_kombinasi(x,y):\r\n",
        "    v1=vol_kubus(x)\r\n",
        "    v2=vol_limas(x,y)\r\n",
        "    volume_kombinasi=v1+v2\r\n",
        "    return volume_kombinasi\r\n",
        "\r\n",
        "x=float(input(\"masukkan nilai x:\"))\r\n",
        "y=float(input(\"masukkan nilai y:\"))\r\n",
        "\r\n",
        "print(\"volume_kombinasi\", volume_kombinasi(x,y))"
      ],
      "execution_count": 5,
      "outputs": [
        {
          "output_type": "stream",
          "text": [
            "masukkan nilai x:5\n",
            "masukkan nilai y:10\n",
            "volume_kombinasi 208.33333333333331\n"
          ],
          "name": "stdout"
        }
      ]
    }
  ]
}