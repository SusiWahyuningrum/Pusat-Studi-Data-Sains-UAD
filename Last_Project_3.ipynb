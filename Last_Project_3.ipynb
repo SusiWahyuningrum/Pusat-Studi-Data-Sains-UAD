{
  "nbformat": 4,
  "nbformat_minor": 0,
  "metadata": {
    "colab": {
      "name": "Last Project 3.ipynb",
      "provenance": [],
      "authorship_tag": "ABX9TyOyPmP7ik+t90RsL2HgdGw7",
      "include_colab_link": true
    },
    "kernelspec": {
      "name": "python3",
      "display_name": "Python 3"
    }
  },
  "cells": [
    {
      "cell_type": "markdown",
      "metadata": {
        "id": "view-in-github",
        "colab_type": "text"
      },
      "source": [
        "<a href=\"https://colab.research.google.com/github/SusiWahyuningrum/Pusat-Studi-Data-Sains-UAD/blob/main/Last_Project_3.ipynb\" target=\"_parent\"><img src=\"https://colab.research.google.com/assets/colab-badge.svg\" alt=\"Open In Colab\"/></a>"
      ]
    },
    {
      "cell_type": "code",
      "metadata": {
        "colab": {
          "base_uri": "https://localhost:8080/"
        },
        "id": "cUFw_FY0U27y",
        "outputId": "435bf6b8-ec2f-4a26-b5db-1ad10d7e6597"
      },
      "source": [
        "import last_project as vol_kom\r\n",
        "vol_kom.volume_kombinasi(5,10)"
      ],
      "execution_count": 2,
      "outputs": [
        {
          "output_type": "execute_result",
          "data": {
            "text/plain": [
              "208.33333333333331"
            ]
          },
          "metadata": {
            "tags": []
          },
          "execution_count": 2
        }
      ]
    }
  ]
}